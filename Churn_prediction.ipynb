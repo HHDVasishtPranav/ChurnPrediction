{
  "cells": [
    {
      "cell_type": "code",
      "execution_count": null,
      "metadata": {
        "id": "geaGius66TKB"
      },
      "outputs": [],
      "source": [
        "import numpy as np\n",
        "import pandas as pd\n",
        "import matplotlib.pyplot as plt\n",
        "from sklearn import linear_model\n",
        "from sklearn.model_selection import cross_val_score\n",
        "from sklearn.neighbors import KNeighborsClassifier\n",
        "from sklearn import svm\n",
        "from sklearn.model_selection import train_test_split\n",
        "from sklearn.metrics import confusion_matrix, accuracy_score, precision_score, recall_score, f1_score\n",
        "\n",
        "import pickle"
      ]
    },
    {
      "cell_type": "code",
      "execution_count": null,
      "metadata": {
        "id": "VVCJDTt96cnn"
      },
      "outputs": [],
      "source": [
        "#reading data\n",
        "df=pd.read_csv(\"WA_Fn-UseC_-Telco-Customer-Churn.csv\")"
      ]
    },
    {
      "attachments": {},
      "cell_type": "markdown",
      "metadata": {
        "id": "PKvNrT4gCQiM"
      },
      "source": [
        "# Data cleaning"
      ]
    },
    {
      "cell_type": "code",
      "execution_count": null,
      "metadata": {
        "colab": {
          "base_uri": "https://localhost:8080/"
        },
        "id": "amUzwKw98vqB",
        "outputId": "aba4f39a-6b3d-4425-8a96-1d2365bda86f"
      },
      "outputs": [],
      "source": [
        "print(df.info(),\"\\n\\n\")\n",
        "print(df.head())"
      ]
    },
    {
      "cell_type": "code",
      "execution_count": null,
      "metadata": {
        "colab": {
          "base_uri": "https://localhost:8080/"
        },
        "id": "rv2_QzDNCc_N",
        "outputId": "8cdf72db-3d01-466f-fd89-e6e83562d80d"
      },
      "outputs": [],
      "source": [
        "df.isnull().sum()"
      ]
    },
    {
      "cell_type": "code",
      "execution_count": null,
      "metadata": {
        "colab": {
          "base_uri": "https://localhost:8080/"
        },
        "id": "VGDaiLHpC0D0",
        "outputId": "342d63fc-6757-4215-d17f-8f08d00aa507"
      },
      "outputs": [],
      "source": [
        "for i in df.columns:\n",
        "    print(i)\n",
        "    print (df[i].unique(),\"\\n\")"
      ]
    },
    {
      "cell_type": "code",
      "execution_count": null,
      "metadata": {
        "colab": {
          "base_uri": "https://localhost:8080/"
        },
        "id": "XANDfXsBDAUH",
        "outputId": "b1f38bff-2593-4f5c-bd3c-8e69d31b0516"
      },
      "outputs": [],
      "source": [
        "# Replace \"yes\" with 1 and \"no\" with 0\n",
        "colToReplace= ['Partner','Dependents','PhoneService', 'MultipleLines','OnlineSecurity','OnlineBackup', 'DeviceProtection','Churn']\n",
        "df[colToReplace] = df[colToReplace].replace({\"Yes\": 1, \"No\": 0,\"No internet service\": np.NaN,\"No phone service\" : np.NaN})\n",
        "print(df.head())"
      ]
    },
    {
      "cell_type": "code",
      "execution_count": null,
      "metadata": {
        "colab": {
          "base_uri": "https://localhost:8080/"
        },
        "id": "4NIn-zyuYURZ",
        "outputId": "2bdd2d5b-15df-4c89-c66a-14e828996d53"
      },
      "outputs": [],
      "source": [
        "df.TotalCharges = pd.to_numeric(df.TotalCharges, errors='coerce')\n",
        "df.isnull().sum()"
      ]
    },
    {
      "cell_type": "code",
      "execution_count": null,
      "metadata": {
        "colab": {
          "base_uri": "https://localhost:8080/",
          "height": 334
        },
        "id": "60YrAyTYZlIe",
        "outputId": "8a0353cb-b492-4d3f-8486-bc13ac098e22"
      },
      "outputs": [],
      "source": [
        "\n",
        "df.dropna(inplace = True)\n",
        "\n",
        "df2 = df.iloc[:,1:]\n",
        "df2.head()\n",
        "#Let's convert all the categorical variables into dummy variables\n",
        "new_df = pd.get_dummies(df2)\n",
        "new_df.head()"
      ]
    },
    {
      "cell_type": "code",
      "execution_count": null,
      "metadata": {
        "colab": {
          "base_uri": "https://localhost:8080/"
        },
        "id": "vhU2bjTkbWZu",
        "outputId": "4597f99a-7fa9-40aa-abc7-2ed934e25bfc"
      },
      "outputs": [],
      "source": [
        "print(new_df.isnull().sum())#cross checking"
      ]
    },
    {
      "attachments": {},
      "cell_type": "markdown",
      "metadata": {
        "id": "FBCU0n8pocBD"
      },
      "source": [
        "# corelation and feature selec"
      ]
    },
    {
      "cell_type": "code",
      "execution_count": null,
      "metadata": {
        "colab": {
          "base_uri": "https://localhost:8080/",
          "height": 1000
        },
        "id": "7JMv9-mDbXG2",
        "outputId": "eb1cff6e-0b9d-4a6d-dc11-066083be20c0"
      },
      "outputs": [],
      "source": [
        "corr = new_df.corr()\n",
        "\n",
        "fig, ax = plt.subplots(figsize=(20, 20))\n",
        "cax = ax.matshow(corr, cmap='coolwarm', vmin=-1, vmax=1)\n",
        "fig.colorbar(cax)\n",
        "ticks = np.arange(0, len(new_df.columns), 1)\n",
        "ax.set_xticks(ticks)\n",
        "ax.set_xticklabels(new_df.columns, rotation=90)\n",
        "ax.set_yticks(ticks)\n",
        "ax.set_yticklabels(new_df.columns)\n",
        "\n",
        "# Print the correlation factor\n",
        "for i in range(new_df.shape[1]):\n",
        "    for j in range(new_df.shape[1]):\n",
        "        text = ax.text(j, i, round(corr.iloc[i][j], 2), ha=\"center\", va=\"center\", color=\"w\")\n",
        "\n",
        "plt.show()"
      ]
    },
    {
      "cell_type": "code",
      "execution_count": null,
      "metadata": {
        "colab": {
          "base_uri": "https://localhost:8080/"
        },
        "id": "G-PIBQUYceAH",
        "outputId": "8671dab6-efba-403f-ca7b-313e0cd1f6a5"
      },
      "outputs": [],
      "source": [
        "top_features = new_df.corr().nlargest(10, 'Churn')['Churn']\n",
        "print(top_features)\n",
        "print()\n",
        "print(top_features.index.tolist)"
      ]
    },
    {
      "attachments": {},
      "cell_type": "markdown",
      "metadata": {
        "id": "SHP99vzsojbg"
      },
      "source": [
        "# **Evaluating the Algorithms**\n",
        "■ Logistic Regression\n",
        "■ K-Nearest Neighbors (KNN)\n",
        "■ Support Vector Machines (SVM)—Linear\n",
        "■ Support Vector Machines (SVM) RBF Kernels"
      ]
    },
    {
      "cell_type": "code",
      "execution_count": null,
      "metadata": {
        "id": "OyC7WKfEjiLr"
      },
      "outputs": [],
      "source": [
        "X = new_df[['Contract_Month-to-month', 'TechSupport_No', 'PaymentMethod_Electronic check', 'InternetService_Fiber optic', 'PaperlessBilling_Yes', 'SeniorCitizen', 'StreamingMovies_No', 'StreamingTV_No', 'MonthlyCharges']]\n",
        "y = new_df['Churn'].values"
      ]
    },
    {
      "cell_type": "code",
      "execution_count": null,
      "metadata": {
        "colab": {
          "base_uri": "https://localhost:8080/"
        },
        "id": "J2vY52O6oM7Y",
        "outputId": "52459236-f4b5-42b1-dfc4-7f4448ec644c"
      },
      "outputs": [],
      "source": [
        "#logistic regression\n",
        "log_regress = linear_model.LogisticRegression(max_iter=2000)\n",
        "log_regress_score = cross_val_score(log_regress, X, y, cv=10, scoring='accuracy').mean()\n",
        "print(log_regress_score)\n"
      ]
    },
    {
      "cell_type": "code",
      "execution_count": null,
      "metadata": {
        "id": "OEQpxQHfqdPI"
      },
      "outputs": [],
      "source": [
        "result = []\n",
        "result.append(log_regress_score)"
      ]
    },
    {
      "cell_type": "code",
      "execution_count": null,
      "metadata": {
        "colab": {
          "base_uri": "https://localhost:8080/"
        },
        "id": "mA1blo8DqjMh",
        "outputId": "3c0977d8-261f-40e6-a5c9-61ef9631c4bb"
      },
      "outputs": [],
      "source": [
        "#KNN\n",
        "sample_size = 1000\n",
        "\n",
        "sampled_indices = np.random.choice(len(X), size=sample_size, replace=False)\n",
        "X_sampled = X.iloc[sampled_indices]\n",
        "y_sampled = y[sampled_indices]\n",
        "\n",
        "cv_scores = []\n",
        "\n",
        "folds = 10\n",
        "\n",
        "\n",
        "ks = list(range(1,int(len(X_sampled) * ((folds - 1)/folds)), 5))\n",
        "\n",
        "for k in ks:\n",
        "  knn = KNeighborsClassifier(n_neighbors=k)\n",
        "  score = cross_val_score(knn, X_sampled, y_sampled, cv=folds, scoring='accuracy').mean()\n",
        "  cv_scores.append(score)\n",
        "\n",
        "#get the maximum score\n",
        "knn_score = max(cv_scores)\n",
        "\n",
        "#find the optimal k that gives the highest score\n",
        "optimal_k = ks[cv_scores.index(knn_score)]\n",
        "\n",
        "print(f\"The optimal number of neighbors is {optimal_k}\")\n",
        "print(knn_score)\n"
      ]
    },
    {
      "cell_type": "code",
      "execution_count": null,
      "metadata": {
        "id": "PfWF4J_vq3Hh"
      },
      "outputs": [],
      "source": [
        "result.append(knn_score)"
      ]
    },
    {
      "cell_type": "code",
      "execution_count": null,
      "metadata": {
        "colab": {
          "base_uri": "https://localhost:8080/"
        },
        "id": "pz2Fl8n7tarq",
        "outputId": "ebc4be4c-5226-48c4-d71a-99383f22f4e3"
      },
      "outputs": [],
      "source": [
        "#SVM linear\n",
        "linear_svm = svm.SVC(kernel='linear')\n",
        "linear_svm_score = cross_val_score(linear_svm, X, y,\n",
        " cv=10, scoring='accuracy').mean()\n",
        "print(linear_svm_score)\n",
        "result.append(linear_svm_score)\n",
        "\n",
        "\n",
        "print()\n",
        "\n",
        "#svm rbf kernerl\n",
        "rbf = svm.SVC(kernel='rbf')\n",
        "rbf_score = cross_val_score(rbf, X, y, cv=10, scoring='accuracy').mean()\n",
        "print(rbf_score)\n",
        "result.append(rbf_score)"
      ]
    },
    {
      "cell_type": "code",
      "execution_count": null,
      "metadata": {
        "colab": {
          "base_uri": "https://localhost:8080/",
          "height": 175
        },
        "id": "stRXTyeZty4h",
        "outputId": "f0caa07d-5814-4327-95b0-cdaebc83aa86"
      },
      "outputs": [],
      "source": [
        "algorithms = [\"Logistic Regression\", \"K Nearest Neighbors\", \"SVM LinearKernel\", \"SVM RBF Kernel\"]\n",
        "cv_mean = pd.DataFrame(result,index = algorithms)\n",
        "cv_mean.columns=[\"Accuracy\"]\n",
        "cv_mean.sort_values(by=\"Accuracy\",ascending=False)"
      ]
    },
    {
      "attachments": {},
      "cell_type": "markdown",
      "metadata": {
        "id": "HqZoWeuZuYvc"
      },
      "source": [
        "#Training and predicting"
      ]
    },
    {
      "cell_type": "code",
      "execution_count": null,
      "metadata": {
        "colab": {
          "base_uri": "https://localhost:8080/"
        },
        "id": "3PziY68OuK0p",
        "outputId": "6caf2919-883e-43c5-aa66-7ed8bd56cfdd"
      },
      "outputs": [],
      "source": [
        "#logistic regression:\n",
        "X_train, X_test, y_train, y_test = train_test_split(X, y, test_size=0.2, random_state=42)\n",
        "\n",
        "logreg = linear_model.LogisticRegression(max_iter = 1000)\n",
        "logreg.fit(X_train, y_train)\n",
        "\n",
        "# Make predictions on the test set\n",
        "y_pred = logreg.predict(X_test)\n",
        "\n",
        "\n",
        "cm = confusion_matrix(y_test, y_pred)\n",
        "print(\"Confusion Matrix:\")\n",
        "print(cm)\n",
        "accuracy = accuracy_score(y_test, y_pred)\n",
        "precision = precision_score(y_test, y_pred)\n",
        "recall = recall_score(y_test, y_pred)\n",
        "f1 = f1_score(y_test, y_pred)\n",
        "\n",
        "print(\"Accuracy:\", accuracy)\n",
        "print(\"Precision:\", precision)\n",
        "print(\"Recall:\", recall)\n",
        "print(\"F1 Score:\", f1)"
      ]
    },
    {
      "cell_type": "code",
      "execution_count": null,
      "metadata": {
        "colab": {
          "base_uri": "https://localhost:8080/"
        },
        "id": "4rkyAdmszBZg",
        "outputId": "b8f6ce67-4429-4fe3-8e72-9bceef101b63"
      },
      "outputs": [],
      "source": [
        "filename = 'churn.pkl'\n",
        "pickle.dump(logreg, open(filename, 'wb'))\n",
        "\n",
        "\n",
        "# ['Contract_Month-to-month', 'TechSupport_No', 'PaymentMethod_Electronic check', 'InternetService_Fiber optic',\n",
        "#  'PaperlessBilling_Yes', 'SeniorCitizen', 'StreamingMovies_No', 'StreamingTV_No', 'MonthlyCharges']\n",
        "              # New instance for prediction\n",
        "data = [[1, 1, 0, 0, 0, 0, 1, 1, 56.95]]\n",
        "\n",
        "prediction = logreg.predict(data)\n",
        "\n",
        "#the prediction result\n",
        "if prediction[0] == 0:\n",
        "    print(\"Churn: No\")\n",
        "else:\n",
        "    print(\"Churn: Yes\")"
      ]
    },
    {
      "attachments": {},
      "cell_type": "markdown",
      "metadata": {
        "id": "0Yf8F2dBxsar"
      },
      "source": [
        "#analysis"
      ]
    },
    {
      "cell_type": "code",
      "execution_count": null,
      "metadata": {
        "colab": {
          "base_uri": "https://localhost:8080/",
          "height": 386
        },
        "id": "m03fUzOAx1Kb",
        "outputId": "f16ba118-e279-4f24-85c0-dada7c83e501"
      },
      "outputs": [],
      "source": [
        "org_df = pd.read_csv(\"WA_Fn-UseC_-Telco-Customer-Churn.csv\")\n",
        "org_df.head()"
      ]
    },
    {
      "attachments": {},
      "cell_type": "markdown",
      "metadata": {
        "id": "EZ9F9tXY06J7"
      },
      "source": [
        " ['Contract_Month-to-month', 'TechSupport_No', 'PaymentMethod_Electronic check', 'InternetService_Fiber optic',\n",
        "  'PaperlessBilling_Yes', 'SeniorCitizen', 'StreamingMovies_No', 'StreamingTV_No', 'MonthlyCharges']"
      ]
    },
    {
      "cell_type": "code",
      "execution_count": null,
      "metadata": {
        "colab": {
          "base_uri": "https://localhost:8080/",
          "height": 543
        },
        "id": "PgXaAD3M0yM6",
        "outputId": "b58a27a4-a50a-452a-f95a-9eef7fe4175c"
      },
      "outputs": [],
      "source": [
        "new_odf = pd.get_dummies(df2)\n",
        "print(new_odf.columns)\n",
        "new_odf.head()"
      ]
    },
    {
      "cell_type": "code",
      "execution_count": null,
      "metadata": {
        "id": "1eNYfmWT2kKA"
      },
      "outputs": [],
      "source": []
    },
    {
      "cell_type": "code",
      "execution_count": null,
      "metadata": {
        "colab": {
          "base_uri": "https://localhost:8080/"
        },
        "id": "1j9pSIzg4X8j",
        "outputId": "265a27ac-46a5-43af-9ae3-2f0bf07d3a86"
      },
      "outputs": [],
      "source": [
        "fnamess = ['Contract_Month-to-month', 'TechSupport_No', 'PaymentMethod_Electronic check', 'InternetService_Fiber optic', 'PaperlessBilling_Yes', 'SeniorCitizen', 'StreamingMovies_No', 'StreamingTV_No']\n",
        "for fnames in fnamess:\n",
        "    fnames = fnames.strip()\n",
        "    if fnames in new_odf.columns:\n",
        "        if 1 in new_odf[fnames].values:\n",
        "            no_occurrences = new_odf[fnames].value_counts()[1]\n",
        "            print(\"Number of\", fnames, \"are:\", no_occurrences)\n",
        "            print()\n",
        "        else:\n",
        "          print(\"try again\")\n",
        "\n"
      ]
    },
    {
      "cell_type": "code",
      "execution_count": null,
      "metadata": {
        "colab": {
          "base_uri": "https://localhost:8080/",
          "height": 691
        },
        "id": "EW7wKaUBKSiW",
        "outputId": "c529d115-ec1f-4a54-f103-f7c10af2357f"
      },
      "outputs": [],
      "source": [
        "fnamess = ['Contract_Month-to-month', 'TechSupport_No', 'PaymentMethod_Electronic check', 'InternetService_Fiber optic', 'PaperlessBilling_Yes', 'SeniorCitizen', 'StreamingMovies_No', 'StreamingTV_No']\n",
        "churn_label = \"Churn\"\n",
        "\n",
        "churn_rates = []\n",
        "\n",
        "for fnames in fnamess:\n",
        "    fnames = fnames.strip()\n",
        "    if fnames in new_odf.columns:\n",
        "        churn_rate = new_odf.loc[new_odf[fnames] == 1, churn_label].mean()\n",
        "        churn_rates.append(churn_rate)\n",
        "\n",
        "# Create the bar chart\n",
        "plt.bar(fnamess, churn_rates)\n",
        "plt.xlabel('Features')\n",
        "plt.ylabel('Churn Rate')\n",
        "plt.title('Churn Rate for Different Features')\n",
        "\n",
        "# Rotate x-axis labels if needed\n",
        "plt.xticks(rotation=90)\n",
        "\n",
        "# Display the chart\n",
        "plt.show()"
      ]
    }
  ],
  "metadata": {
    "colab": {
      "collapsed_sections": [
        "PKvNrT4gCQiM",
        "FBCU0n8pocBD",
        "SHP99vzsojbg",
        "0Yf8F2dBxsar"
      ],
      "provenance": []
    },
    "kernelspec": {
      "display_name": "Python 3",
      "name": "python3"
    },
    "language_info": {
      "codemirror_mode": {
        "name": "ipython",
        "version": 3
      },
      "file_extension": ".py",
      "mimetype": "text/x-python",
      "name": "python",
      "nbconvert_exporter": "python",
      "pygments_lexer": "ipython3",
      "version": "3.11.2"
    }
  },
  "nbformat": 4,
  "nbformat_minor": 0
}
